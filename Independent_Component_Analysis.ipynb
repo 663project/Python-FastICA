{
 "cells": [
  {
   "cell_type": "markdown",
   "metadata": {},
   "source": [
    "Abstract\n",
    "\n",
    "250 words or less. Identify 4-6 key phrases."
   ]
  },
  {
   "cell_type": "markdown",
   "metadata": {},
   "source": [
    "# Background"
   ]
  },
  {
   "cell_type": "markdown",
   "metadata": {},
   "source": [
    "In most classical statistical theories, random variables are assumed to have Gaussian distributions. How about non-Gaussian cases? Driven by curiosity, we read the paper “Independent component analysis: algorithm and applications”. ICA is a general-purpose statistical technique, with a lot of interesting application in audio processing, biomedical signal processing, image processing, telecommunications, and econometrics. Inspired by cocktail-party problem, ICA attempts to separate mixed signals. Specifically, under the key assumption of non-Gaussianity, ICA gives a linear representation of multivariate data with statistically independent components. "
   ]
  },
  {
   "cell_type": "markdown",
   "metadata": {},
   "source": [
    "## Independent Component Analysis"
   ]
  },
  {
   "cell_type": "markdown",
   "metadata": {},
   "source": [
    "### Definition"
   ]
  },
  {
   "cell_type": "markdown",
   "metadata": {},
   "source": [
    "Assume that we observe $n$ linear variables  $x_1, x_2,…, x_n$. They are mixtures of $m$ independent variables $s_1, s_2,…, s_m$:\n",
    "\n",
    "$$x_i = a_{i1}s_1+a_{i2}s_2+...+a_{im}s_m$$\n",
    "\n",
    "The fundamental point is that we observe only the variables $x_i$, whereas both $a_{ij}$ and $s_j$ are to be estimated or inferred. The $s_j$ are the independent components, whereas the coefficients $x_i$ are called the mixing coefficients. Using a vector-matrix notation, the above mixing is written as:\n",
    "\n",
    "$$x=As.$$\n",
    "\n",
    "In other words, all we observe is the random vector $x$, and we want to estimate both $A$ and $s$."
   ]
  },
  {
   "cell_type": "markdown",
   "metadata": {},
   "source": [
    "### Principles of ICA estimation"
   ]
  },
  {
   "cell_type": "markdown",
   "metadata": {},
   "source": [
    "#### ``Nongaussian is independent''\n",
    "\n",
    "The Central Limit Theorem tells that the distribution of a sum of independent random variables tends toward a Gaussian distribution, under certain conditions. Thus, a sum of two independent random variables usually has a distribution that is closer to gaussian than any of the two original random variables.\n",
    "\n",
    "Let’s consider a linear combination of $x_i$: $y=w^Tx = \\sum w_i x_i$, where $w$ is a vector to be determined. Denote $z=A^T w$, then we have $y=w^T x=w^T, As= z^T s$. $y$ is thus a linear combination of $s_i$, with weights given by $z_i$. Since a sum of even two independent random variables is more Gaussian than the original variables,  $z^T s$ is more Gaussian than any of the $s_i$ and becomes least Gaussian when it in fact equals one of the $s_i$. In this case, obviously only one of the elements $z_i$ of $z$ is nonzero.\n",
    "\n",
    "Therefore, we could take as $w$ a vector that maximizes the non-Gaussianity of  $w^T x$. Such a vector would necessarily correspond (in the transformed coordinate system) to a $z$ which has only one nonzero component. This means that $w^T x= z^T s$ equals one of the independent component. Maximizing the non-Gaussianity of  $w^T x$ thus gives us one of the independent components.\n",
    "\n",
    "### Measures of non-Gaussianity\n",
    "\n",
    "Here we use approximations of negentropy. Paper “New approximations of differential entropy for independent component analysis and projection pursuit” developed approximations based on the maximum-entropy principle:\n",
    "$$J(y) \\approx \\sum_{i=1}^{p} k_i \\left[ E \\left[G_i (y)\\right]-E\\left[G_i (v)\\right]\\right]^2 $$\n",
    "where $k_i$ are some positive constants, and $v$ is a Gaussian variable of zero mean and unit variance (i.e., standardized). The variable $v$ is assumed to be of zero mean and unit variance, and the functions $G_i$ are some nonquadratic functions. To obtain relatively robust estimators, the following choices of $G$ have proved very useful:\n",
    "$$G_1 (u) = \\frac{1}{a_1}  log⁡cosh⁡\\left(a_1 u\\right) ,where 1≤a_1≤2$$\n",
    "\n",
    "$$G_2 (u)=-exp⁡(-u^2/2)$$\n",
    "\n"
   ]
  },
  {
   "cell_type": "markdown",
   "metadata": {},
   "source": [
    "## Preprocessing for ICA\n",
    "\n",
    "Before applying an ICA algorithm, centering and whitening data will make the problem simpler and better conditioned."
   ]
  },
  {
   "cell_type": "markdown",
   "metadata": {},
   "source": []
  },
  {
   "cell_type": "code",
   "execution_count": null,
   "metadata": {
    "collapsed": true
   },
   "outputs": [],
   "source": []
  },
  {
   "cell_type": "code",
   "execution_count": null,
   "metadata": {
    "collapsed": true
   },
   "outputs": [],
   "source": []
  },
  {
   "cell_type": "code",
   "execution_count": null,
   "metadata": {
    "collapsed": true
   },
   "outputs": [],
   "source": []
  },
  {
   "cell_type": "code",
   "execution_count": null,
   "metadata": {
    "collapsed": true
   },
   "outputs": [],
   "source": []
  },
  {
   "cell_type": "code",
   "execution_count": null,
   "metadata": {
    "collapsed": true
   },
   "outputs": [],
   "source": []
  },
  {
   "cell_type": "markdown",
   "metadata": {},
   "source": [
    "# Algorithm"
   ]
  },
  {
   "cell_type": "code",
   "execution_count": null,
   "metadata": {
    "collapsed": true
   },
   "outputs": [],
   "source": [
    "%load test.py"
   ]
  },
  {
   "cell_type": "code",
   "execution_count": 27,
   "metadata": {
    "collapsed": false
   },
   "outputs": [],
   "source": [
    "# data\n",
    "%run test.py\n",
    "%run fMRI.py"
   ]
  },
  {
   "cell_type": "code",
   "execution_count": 22,
   "metadata": {
    "collapsed": true
   },
   "outputs": [],
   "source": [
    "%run fastICA_0.py\n",
    "%run fastICA_better_algo.py\n",
    "%run fastICA_jit.py\n",
    "%run fastICA_ne.py"
   ]
  },
  {
   "cell_type": "code",
   "execution_count": null,
   "metadata": {
    "collapsed": true
   },
   "outputs": [],
   "source": []
  },
  {
   "cell_type": "code",
   "execution_count": null,
   "metadata": {
    "collapsed": true
   },
   "outputs": [],
   "source": []
  },
  {
   "cell_type": "markdown",
   "metadata": {},
   "source": [
    "### Code Profiling and Optimization"
   ]
  },
  {
   "cell_type": "markdown",
   "metadata": {},
   "source": [
    "#### line_profiler"
   ]
  },
  {
   "cell_type": "code",
   "execution_count": 10,
   "metadata": {
    "collapsed": false
   },
   "outputs": [
    {
     "name": "stdout",
     "output_type": "stream",
     "text": [
      "Timer unit: 1e-06 s\r\n",
      "\r\n",
      "Total time: 3.12716 s\r\n",
      "File: fastICA_00.py\r\n",
      "Function: fastICA_00 at line 31\r\n",
      "\r\n",
      "Line #      Hits         Time  Per Hit   % Time  Line Contents\r\n",
      "==============================================================\r\n",
      "    31                                           @profile\r\n",
      "    32                                           def fastICA_00(X, f,alpha=None, n_comp=None,maxit=200, tol=1e-04):\r\n",
      "    33                                               \"\"\"FastICA algorithm for several units\"\"\"\r\n",
      "    34         1            3      3.0      0.0      n,p = X.shape\r\n",
      "    35                                               #check if n_comp is valid\r\n",
      "    36         1            1      1.0      0.0      if n_comp is None:\r\n",
      "    37                                                   n_comp = min(n,p)\r\n",
      "    38         1            2      2.0      0.0      elif n_comp > min(n,p):\r\n",
      "    39                                                   print(\"n_comp is too large\")\r\n",
      "    40                                                   n_comp = min(n,p)\r\n",
      "    41                                                   \r\n",
      "    42                                               #centering\r\n",
      "    43                                               #by subtracting the mean of each column of X (array).\r\n",
      "    44         1         2710   2710.0      0.1      X = preprocessing.scale(X,axis = 0,with_std=False)\r\n",
      "    45         1            3      3.0      0.0      X = X.T\r\n",
      "    46                                           \r\n",
      "    47                                               #whitening\r\n",
      "    48         1        19867  19867.0      0.6      svd = np.linalg.svd(X @ (X.T) / n)\r\n",
      "    49         1           66     66.0      0.0      k = np.diag(1/np.sqrt(svd[1])) @ (svd[0].T)\r\n",
      "    50         1            3      3.0      0.0      k = k[:n_comp,:] \r\n",
      "    51         1         3800   3800.0      0.1      X1 = k @ X\r\n",
      "    52                                           \r\n",
      "    53                                               # initial random weght vector\r\n",
      "    54         1           60     60.0      0.0      w_init = np.random.normal(size=(n_comp, n_comp))\r\n",
      "    55         1          829    829.0      0.0      W = sym_decorrelation(w_init)\r\n",
      "    56         1            2      2.0      0.0      lim = 1\r\n",
      "    57         1            1      1.0      0.0      it = 0\r\n",
      "    58                                               \r\n",
      "    59                                               \r\n",
      "    60                                               # The FastICA algorithm\r\n",
      "    61         1            1      1.0      0.0      if f == \"logcosh\":\r\n",
      "    62        64          180      2.8      0.0          while lim > tol and it < maxit :\r\n",
      "    63        63       120622   1914.6      3.9              wx = W @ X1\r\n",
      "    64        63      1300127  20636.9     41.6              gwx = g_logcosh(wx,alpha)\r\n",
      "    65        63      1384819  21981.3     44.3              g_wx = gprime_logcosh(wx,alpha)\r\n",
      "    66        63       146900   2331.7      4.7              W1 = np.dot(gwx,X1.T)/X1.shape[1] - np.dot(np.diag(g_wx.mean(axis=1)),W)\r\n",
      "    67        63       140576   2231.4      4.5              W1 = sym_decorrelation(W1)\r\n",
      "    68        63          143      2.3      0.0              it = it +1\r\n",
      "    69        63         3002     47.7      0.1              lim = np.max(np.abs(np.abs(np.diag(W1 @ W.T)) - 1.0))\r\n",
      "    70        63          121      1.9      0.0              W = W1\r\n",
      "    71                                           \r\n",
      "    72         1         1941   1941.0      0.1          S = W @ X1\r\n",
      "    73         1          516    516.0      0.0          A = np.linalg.inv(W @ k)\r\n",
      "    74         1          859    859.0      0.0          X_re = A @ S\r\n",
      "    75         1            6      6.0      0.0          return{'X':X1.T,'X_re':X_re.T,'A':A.T,'S':S.T}\r\n",
      "    76                                           \r\n",
      "    77                                               elif f == \"exp\":\r\n",
      "    78                                                   while lim > tol and it < maxit :\r\n",
      "    79                                                       wx = W @ X1\r\n",
      "    80                                                       gwx = g_exp(wx,alpha)\r\n",
      "    81                                                       g_wx = gprime_exp(wx,alpha)\r\n",
      "    82                                                       W1 = np.dot(gwx,X1.T)/X1.shape[1] - np.dot(np.diag(g_wx.mean(axis=1)),W)\r\n",
      "    83                                                       W1 = sym_decorrelation(W1)\r\n",
      "    84                                                       it = it +1\r\n",
      "    85                                                       lim = np.max(np.abs(np.abs(np.diag(W1 @ W.T)) - 1.0))\r\n",
      "    86                                                       W = W1\r\n",
      "    87                                           \r\n",
      "    88                                                   S = W @ X1\r\n",
      "    89                                                   A = np.linalg.inv(W @ k)\r\n",
      "    90                                                   X_re = A @ S\r\n",
      "    91                                                   return{'X':X1.T,'X_re':X_re.T,'A':A.T,'S':S.T}\r\n",
      "    92                                           \r\n",
      "    93                                               else:\r\n",
      "    94                                                   print(\"doesn't support this approximation negentropy function\")\r\n",
      "\r\n"
     ]
    }
   ],
   "source": [
    "!python -m line_profiler fastICA_00.py.lprof"
   ]
  },
  {
   "cell_type": "markdown",
   "metadata": {},
   "source": [
    "#### Bottlenecks\n",
    "We used line profiler to identify the bottlenecks.\n",
    "From the result, it can be observed that the biggest bottleneck in the fastica function are \"np.tanh\" (\"g_logcosh\" and \"gprime_logcosh\") and 'np.linalg.svd' function, which take about 90% percent of the time when running fastica function. The next bottleneck are 'preprocessing.scale'and matrix dot product."
   ]
  },
  {
   "cell_type": "code",
   "execution_count": null,
   "metadata": {
    "collapsed": true
   },
   "outputs": [],
   "source": []
  },
  {
   "cell_type": "markdown",
   "metadata": {},
   "source": [
    "#### Comparison\n",
    "\n",
    "We show the improved efficiency below for all major update functions."
   ]
  },
  {
   "cell_type": "code",
   "execution_count": 11,
   "metadata": {
    "collapsed": false
   },
   "outputs": [
    {
     "name": "stdout",
     "output_type": "stream",
     "text": [
      "4 loops, best of 2: 2.49 s per loop\n"
     ]
    }
   ],
   "source": [
    "%timeit -r2 -n4 fastICA_0(fMRI,f = \"logcosh\",n_comp =20, alpha = 1,maxit = 200, tol = 0.0001)"
   ]
  },
  {
   "cell_type": "code",
   "execution_count": 16,
   "metadata": {
    "collapsed": false
   },
   "outputs": [
    {
     "name": "stdout",
     "output_type": "stream",
     "text": [
      "4 loops, best of 2: 65 ms per loop\n"
     ]
    }
   ],
   "source": [
    "%timeit -r2 -n4 fastICA_3(fMRI,f = \"logcosh\",n_comp =20, alpha = 1,maxit = 200, tol = 0.0001)"
   ]
  },
  {
   "cell_type": "code",
   "execution_count": 18,
   "metadata": {
    "collapsed": false
   },
   "outputs": [
    {
     "name": "stdout",
     "output_type": "stream",
     "text": [
      "4 loops, best of 2: 63.4 ms per loop\n"
     ]
    }
   ],
   "source": [
    "%timeit -r2 -n4 fastICA_3jit(fMRI,f = \"logcosh\",n_comp =20, alpha = 1,maxit = 200, tol = 0.0001)"
   ]
  },
  {
   "cell_type": "code",
   "execution_count": 20,
   "metadata": {
    "collapsed": false
   },
   "outputs": [
    {
     "name": "stdout",
     "output_type": "stream",
     "text": [
      "4 loops, best of 2: 39 ms per loop\n"
     ]
    }
   ],
   "source": [
    "%timeit -r2 -n4 fastICA_3ne(fMRI,f = \"logcosh\",n_comp =20, alpha = 1,maxit = 200, tol = 0.0001)"
   ]
  },
  {
   "cell_type": "markdown",
   "metadata": {},
   "source": [
    "### Application"
   ]
  },
  {
   "cell_type": "markdown",
   "metadata": {},
   "source": [
    "#### Simulated Test Data"
   ]
  },
  {
   "cell_type": "code",
   "execution_count": 28,
   "metadata": {
    "collapsed": false
   },
   "outputs": [
    {
     "data": {
      "image/png": "[encoded data removed]",
      "text/plain": [
       "<matplotlib.figure.Figure at 0x7f95b288b048>"
      ]
     },
     "metadata": {},
     "output_type": "display_data"
    }
   ],
   "source": [
    "test(S_test)"
   ]
  },
  {
   "cell_type": "code",
   "execution_count": null,
   "metadata": {
    "collapsed": true
   },
   "outputs": [],
   "source": []
  }
 ],
 "metadata": {
  "kernelspec": {
   "display_name": "Python 3",
   "language": "python",
   "name": "python3"
  },
  "language_info": {
   "codemirror_mode": {
    "name": "ipython",
    "version": 3
   },
   "file_extension": ".py",
   "mimetype": "text/x-python",
   "name": "python",
   "nbconvert_exporter": "python",
   "pygments_lexer": "ipython3",
   "version": "3.5.2"
  }
 },
 "nbformat": 4,
 "nbformat_minor": 2
}
